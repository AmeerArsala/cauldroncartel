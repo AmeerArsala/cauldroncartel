{
 "cells": [
  {
   "cell_type": "code",
   "execution_count": 1,
   "id": "79289847-21fe-4654-96c5-d7cafadc04fc",
   "metadata": {},
   "outputs": [],
   "source": [
    "import sys\n",
    "\n",
    "\n",
    "# I hate Python\n",
    "sys.path.insert(0, \"../src\")"
   ]
  },
  {
   "cell_type": "code",
   "execution_count": 2,
   "id": "dfa2da2a-7c89-4646-afcd-2c2aaba328a1",
   "metadata": {},
   "outputs": [
    {
     "data": {
      "text/plain": [
       "(UUID('0e902dd5-7b45-4ff9-8067-e23f464a7055'), 0, 0, 100, 0, 0, 0, 0)"
      ]
     },
     "execution_count": 2,
     "metadata": {},
     "output_type": "execute_result"
    }
   ],
   "source": [
    "import sqlalchemy\n",
    "import database as db\n",
    "\n",
    "with db.engine.begin() as connection:\n",
    "    result = connection.execute(sqlalchemy.text(\"SELECT * FROM global_inventory\"))\n",
    "\n",
    "row = result.first()\n",
    "row"
   ]
  },
  {
   "cell_type": "code",
   "execution_count": 4,
   "id": "e9066d24-3d7f-4f2a-8302-9e6e09b31f01",
   "metadata": {},
   "outputs": [],
   "source": [
    "row_wrapped = db.wrap_result_as_global_inventory(row)"
   ]
  },
  {
   "cell_type": "code",
   "execution_count": 5,
   "id": "b5273384-170f-483b-95b3-19a980d55702",
   "metadata": {},
   "outputs": [
    {
     "data": {
      "text/plain": [
       "{'id_': UUID('0e902dd5-7b45-4ff9-8067-e23f464a7055'),\n",
       " 'gold': 100,\n",
       " 'num_green_potions': 0,\n",
       " 'num_green_ml': 0,\n",
       " 'num_red_potions': 0,\n",
       " 'num_red_ml': 0,\n",
       " 'num_blue_potions': 0,\n",
       " 'num_blue_ml': 0}"
      ]
     },
     "execution_count": 5,
     "metadata": {},
     "output_type": "execute_result"
    }
   ],
   "source": [
    "dict(row_wrapped)"
   ]
  },
  {
   "cell_type": "code",
   "execution_count": 6,
   "id": "fd679cbf-9b17-4deb-95b9-75cc6a54f143",
   "metadata": {},
   "outputs": [
    {
     "data": {
      "text/plain": [
       "['Config',\n",
       " '__abstractmethods__',\n",
       " '__annotations__',\n",
       " '__class__',\n",
       " '__class_vars__',\n",
       " '__config__',\n",
       " '__custom_root_type__',\n",
       " '__delattr__',\n",
       " '__dict__',\n",
       " '__dir__',\n",
       " '__doc__',\n",
       " '__eq__',\n",
       " '__exclude_fields__',\n",
       " '__fields__',\n",
       " '__fields_set__',\n",
       " '__format__',\n",
       " '__ge__',\n",
       " '__get_validators__',\n",
       " '__getattribute__',\n",
       " '__getstate__',\n",
       " '__gt__',\n",
       " '__hash__',\n",
       " '__include_fields__',\n",
       " '__init__',\n",
       " '__init_subclass__',\n",
       " '__iter__',\n",
       " '__json_encoder__',\n",
       " '__le__',\n",
       " '__lt__',\n",
       " '__module__',\n",
       " '__ne__',\n",
       " '__new__',\n",
       " '__post_root_validators__',\n",
       " '__pre_root_validators__',\n",
       " '__pretty__',\n",
       " '__private_attributes__',\n",
       " '__reduce__',\n",
       " '__reduce_ex__',\n",
       " '__repr__',\n",
       " '__repr_args__',\n",
       " '__repr_name__',\n",
       " '__repr_str__',\n",
       " '__rich_repr__',\n",
       " '__schema_cache__',\n",
       " '__setattr__',\n",
       " '__setstate__',\n",
       " '__signature__',\n",
       " '__sizeof__',\n",
       " '__slots__',\n",
       " '__str__',\n",
       " '__subclasshook__',\n",
       " '__try_update_forward_refs__',\n",
       " '__validators__',\n",
       " '_abc_impl',\n",
       " '_calculate_keys',\n",
       " '_copy_and_set_values',\n",
       " '_decompose_class',\n",
       " '_enforce_dict_if_root',\n",
       " '_get_value',\n",
       " '_init_private_attributes',\n",
       " '_iter',\n",
       " 'construct',\n",
       " 'copy',\n",
       " 'dict',\n",
       " 'from_orm',\n",
       " 'gold',\n",
       " 'id_',\n",
       " 'json',\n",
       " 'num_blue_ml',\n",
       " 'num_blue_potions',\n",
       " 'num_green_ml',\n",
       " 'num_green_potions',\n",
       " 'num_red_ml',\n",
       " 'num_red_potions',\n",
       " 'parse_file',\n",
       " 'parse_obj',\n",
       " 'parse_raw',\n",
       " 'schema',\n",
       " 'schema_json',\n",
       " 'update_forward_refs',\n",
       " 'validate']"
      ]
     },
     "execution_count": 6,
     "metadata": {},
     "output_type": "execute_result"
    }
   ],
   "source": [
    "dir(row_wrapped)"
   ]
  },
  {
   "cell_type": "code",
   "execution_count": 7,
   "id": "86fca08f-fed7-4c81-9ac2-fbafe9ed1c0c",
   "metadata": {},
   "outputs": [
    {
     "ename": "TypeError",
     "evalue": "'GlobalInventory' object is not subscriptable",
     "output_type": "error",
     "traceback": [
      "\u001b[0;31m---------------------------------------------------------------------------\u001b[0m",
      "\u001b[0;31mTypeError\u001b[0m                                 Traceback (most recent call last)",
      "Cell \u001b[0;32mIn[7], line 1\u001b[0m\n\u001b[0;32m----> 1\u001b[0m \u001b[43mrow_wrapped\u001b[49m\u001b[43m[\u001b[49m\u001b[38;5;124;43m\"\u001b[39;49m\u001b[38;5;124;43mnum_blue_ml\u001b[39;49m\u001b[38;5;124;43m\"\u001b[39;49m\u001b[43m]\u001b[49m\n",
      "\u001b[0;31mTypeError\u001b[0m: 'GlobalInventory' object is not subscriptable"
     ]
    }
   ],
   "source": []
  },
  {
   "cell_type": "code",
   "execution_count": null,
   "id": "fc8f7935-e460-4405-bf2d-9025c4cfa10d",
   "metadata": {},
   "outputs": [],
   "source": []
  }
 ],
 "metadata": {
  "kernelspec": {
   "display_name": "Python 3 (ipykernel)",
   "language": "python",
   "name": "python3"
  },
  "language_info": {
   "codemirror_mode": {
    "name": "ipython",
    "version": 3
   },
   "file_extension": ".py",
   "mimetype": "text/x-python",
   "name": "python",
   "nbconvert_exporter": "python",
   "pygments_lexer": "ipython3",
   "version": "3.11.4"
  }
 },
 "nbformat": 4,
 "nbformat_minor": 5
}
