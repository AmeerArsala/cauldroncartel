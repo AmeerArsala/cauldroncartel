{
 "cells": [
  {
   "cell_type": "code",
   "execution_count": 1,
   "id": "79289847-21fe-4654-96c5-d7cafadc04fc",
   "metadata": {},
   "outputs": [],
   "source": [
    "import sys\n",
    "\n",
    "\n",
    "# I hate Python\n",
    "sys.path.insert(0, \"../src\")"
   ]
  },
  {
   "cell_type": "code",
   "execution_count": 5,
   "id": "ac90a078-856b-4e96-a12c-89e8ee2675d7",
   "metadata": {},
   "outputs": [
    {
     "data": {
      "text/plain": [
       "True"
      ]
     },
     "execution_count": 5,
     "metadata": {},
     "output_type": "execute_result"
    }
   ],
   "source": [
    "[0, 0, 100, 0] == [0, 0, 100, 0]"
   ]
  },
  {
   "cell_type": "code",
   "execution_count": null,
   "id": "dfa2da2a-7c89-4646-afcd-2c2aaba328a1",
   "metadata": {},
   "outputs": [],
   "source": []
  }
 ],
 "metadata": {
  "kernelspec": {
   "display_name": "Python 3 (ipykernel)",
   "language": "python",
   "name": "python3"
  },
  "language_info": {
   "codemirror_mode": {
    "name": "ipython",
    "version": 3
   },
   "file_extension": ".py",
   "mimetype": "text/x-python",
   "name": "python",
   "nbconvert_exporter": "python",
   "pygments_lexer": "ipython3",
   "version": "3.11.4"
  }
 },
 "nbformat": 4,
 "nbformat_minor": 5
}
