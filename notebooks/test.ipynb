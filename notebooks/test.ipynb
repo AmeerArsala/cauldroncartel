{
 "cells": [
  {
   "cell_type": "code",
   "execution_count": 1,
   "id": "79289847-21fe-4654-96c5-d7cafadc04fc",
   "metadata": {},
   "outputs": [],
   "source": [
    "import sys\n",
    "\n",
    "\n",
    "# I hate Python\n",
    "sys.path.insert(0, \"../src\")"
   ]
  },
  {
   "cell_type": "code",
   "execution_count": 2,
   "id": "dfa2da2a-7c89-4646-afcd-2c2aaba328a1",
   "metadata": {},
   "outputs": [
    {
     "data": {
      "text/plain": [
       "(UUID('0e902dd5-7b45-4ff9-8067-e23f464a7055'), 0, 0, 100, 0, 0, 0, 0)"
      ]
     },
     "execution_count": 2,
     "metadata": {},
     "output_type": "execute_result"
    }
   ],
   "source": [
    "import sqlalchemy\n",
    "import database as db\n",
    "\n",
    "with db.engine.begin() as connection:\n",
    "    result = connection.execute(sqlalchemy.text(\"SELECT * FROM global_inventory\"))\n",
    "\n",
    "row = result.first()\n",
    "row"
   ]
  },
  {
   "cell_type": "code",
   "execution_count": 4,
   "id": "e9066d24-3d7f-4f2a-8302-9e6e09b31f01",
   "metadata": {},
   "outputs": [],
   "source": [
    "row_wrapped = db.wrap_result_as_global_inventory(row)"
   ]
  },
  {
   "cell_type": "code",
   "execution_count": 5,
   "id": "b5273384-170f-483b-95b3-19a980d55702",
   "metadata": {},
   "outputs": [
    {
     "data": {
      "text/plain": [
       "{'id_': UUID('0e902dd5-7b45-4ff9-8067-e23f464a7055'),\n",
       " 'gold': 100,\n",
       " 'num_green_potions': 0,\n",
       " 'num_green_ml': 0,\n",
       " 'num_red_potions': 0,\n",
       " 'num_red_ml': 0,\n",
       " 'num_blue_potions': 0,\n",
       " 'num_blue_ml': 0}"
      ]
     },
     "execution_count": 5,
     "metadata": {},
     "output_type": "execute_result"
    }
   ],
   "source": [
    "dict(row_wrapped)"
   ]
  },
  {
   "cell_type": "code",
   "execution_count": 6,
   "id": "fd679cbf-9b17-4deb-95b9-75cc6a54f143",
   "metadata": {},
   "outputs": [
    {
     "data": {
      "text/plain": [
       "['Config',\n",
       " '__abstractmethods__',\n",
       " '__annotations__',\n",
       " '__class__',\n",
       " '__class_vars__',\n",
       " '__config__',\n",
       " '__custom_root_type__',\n",
       " '__delattr__',\n",
       " '__dict__',\n",
       " '__dir__',\n",
       " '__doc__',\n",
       " '__eq__',\n",
       " '__exclude_fields__',\n",
       " '__fields__',\n",
       " '__fields_set__',\n",
       " '__format__',\n",
       " '__ge__',\n",
       " '__get_validators__',\n",
       " '__getattribute__',\n",
       " '__getstate__',\n",
       " '__gt__',\n",
       " '__hash__',\n",
       " '__include_fields__',\n",
       " '__init__',\n",
       " '__init_subclass__',\n",
       " '__iter__',\n",
       " '__json_encoder__',\n",
       " '__le__',\n",
       " '__lt__',\n",
       " '__module__',\n",
       " '__ne__',\n",
       " '__new__',\n",
       " '__post_root_validators__',\n",
       " '__pre_root_validators__',\n",
       " '__pretty__',\n",
       " '__private_attributes__',\n",
       " '__reduce__',\n",
       " '__reduce_ex__',\n",
       " '__repr__',\n",
       " '__repr_args__',\n",
       " '__repr_name__',\n",
       " '__repr_str__',\n",
       " '__rich_repr__',\n",
       " '__schema_cache__',\n",
       " '__setattr__',\n",
       " '__setstate__',\n",
       " '__signature__',\n",
       " '__sizeof__',\n",
       " '__slots__',\n",
       " '__str__',\n",
       " '__subclasshook__',\n",
       " '__try_update_forward_refs__',\n",
       " '__validators__',\n",
       " '_abc_impl',\n",
       " '_calculate_keys',\n",
       " '_copy_and_set_values',\n",
       " '_decompose_class',\n",
       " '_enforce_dict_if_root',\n",
       " '_get_value',\n",
       " '_init_private_attributes',\n",
       " '_iter',\n",
       " 'construct',\n",
       " 'copy',\n",
       " 'dict',\n",
       " 'from_orm',\n",
       " 'gold',\n",
       " 'id_',\n",
       " 'json',\n",
       " 'num_blue_ml',\n",
       " 'num_blue_potions',\n",
       " 'num_green_ml',\n",
       " 'num_green_potions',\n",
       " 'num_red_ml',\n",
       " 'num_red_potions',\n",
       " 'parse_file',\n",
       " 'parse_obj',\n",
       " 'parse_raw',\n",
       " 'schema',\n",
       " 'schema_json',\n",
       " 'update_forward_refs',\n",
       " 'validate']"
      ]
     },
     "execution_count": 6,
     "metadata": {},
     "output_type": "execute_result"
    }
   ],
   "source": [
    "dir(row_wrapped)"
   ]
  },
  {
   "cell_type": "code",
   "execution_count": 8,
   "id": "86fca08f-fed7-4c81-9ac2-fbafe9ed1c0c",
   "metadata": {},
   "outputs": [
    {
     "data": {
      "text/plain": [
       "UUID('9cbec4eb-bb5a-4a64-9f72-7bb5444ccb8b')"
      ]
     },
     "execution_count": 8,
     "metadata": {},
     "output_type": "execute_result"
    }
   ],
   "source": [
    "import uuid\n",
    "\n",
    "uuid.uuid4()"
   ]
  },
  {
   "cell_type": "code",
   "execution_count": 9,
   "id": "fc8f7935-e460-4405-bf2d-9025c4cfa10d",
   "metadata": {},
   "outputs": [
    {
     "data": {
      "text/plain": [
       "77773831920177095738919093862580811622"
      ]
     },
     "execution_count": 9,
     "metadata": {},
     "output_type": "execute_result"
    }
   ],
   "source": [
    "uuid.uuid4().int"
   ]
  },
  {
   "cell_type": "code",
   "execution_count": 13,
   "id": "9f1c9815-c0b0-408a-a9e4-028df25ff575",
   "metadata": {},
   "outputs": [],
   "source": [
    "from pydantic import BaseModel, Field\n",
    "\n",
    "class Cart(BaseModel):\n",
    "    cart_id: int = Field(default_factory=lambda: uuid.uuid4().int)\n",
    "    cart_items: dict[str, str] = Field(default={})\n",
    "\n",
    "cart: Cart = Cart()"
   ]
  },
  {
   "cell_type": "code",
   "execution_count": 26,
   "id": "c1d44b38-7d4d-446b-b7dd-415092f5a079",
   "metadata": {},
   "outputs": [
    {
     "name": "stdout",
     "output_type": "stream",
     "text": [
      "238378762363726954182122458920645558272\n"
     ]
    }
   ],
   "source": [
    "number = 2.3837876236372695e+38\n",
    "formatted_number = f\"{number:.0f}\"\n",
    "print(formatted_number)"
   ]
  },
  {
   "cell_type": "code",
   "execution_count": 19,
   "id": "08401c8b-377e-4c25-9316-f8ccedfc5cdf",
   "metadata": {},
   "outputs": [
    {
     "data": {
      "text/plain": [
       "UUID('e69f4c7f-a514-422e-92e2-948258066c4d')"
      ]
     },
     "execution_count": 19,
     "metadata": {},
     "output_type": "execute_result"
    }
   ],
   "source": [
    "uid = uuid.uuid4()\n",
    "uid"
   ]
  },
  {
   "cell_type": "code",
   "execution_count": 20,
   "id": "fd4f4f70-eb92-42e4-a001-ead0fdbc54eb",
   "metadata": {},
   "outputs": [
    {
     "data": {
      "text/plain": [
       "'e69f4c7f-a514-422e-92e2-948258066c4d'"
      ]
     },
     "execution_count": 20,
     "metadata": {},
     "output_type": "execute_result"
    }
   ],
   "source": [
    "str(uid)"
   ]
  },
  {
   "cell_type": "code",
   "execution_count": 22,
   "id": "58c86baf-d9b6-4c0c-81d4-7f9fa9ea52b5",
   "metadata": {},
   "outputs": [
    {
     "data": {
      "text/plain": [
       "UUID('e69f4c7f-a514-422e-92e2-948258066c4d')"
      ]
     },
     "execution_count": 22,
     "metadata": {},
     "output_type": "execute_result"
    }
   ],
   "source": [
    "from uuid import UUID\n",
    "\n",
    "\n",
    "UUID(str(uid))"
   ]
  },
  {
   "cell_type": "code",
   "execution_count": 23,
   "id": "39499520-671f-443c-bc44-75f0407d0578",
   "metadata": {},
   "outputs": [
    {
     "data": {
      "text/plain": [
       "306549565807233722871571578224128715853"
      ]
     },
     "execution_count": 23,
     "metadata": {},
     "output_type": "execute_result"
    }
   ],
   "source": [
    "UUID(str(uid)).int"
   ]
  },
  {
   "cell_type": "code",
   "execution_count": 24,
   "id": "4ff1d90b-840d-45ea-a178-a2d84a1a88b5",
   "metadata": {},
   "outputs": [
    {
     "data": {
      "text/plain": [
       "306549565807233722871571578224128715853"
      ]
     },
     "execution_count": 24,
     "metadata": {},
     "output_type": "execute_result"
    }
   ],
   "source": [
    "uid.int"
   ]
  },
  {
   "cell_type": "code",
   "execution_count": 25,
   "id": "06f32ee3-35c0-46e1-b531-7fc99fe807db",
   "metadata": {},
   "outputs": [
    {
     "data": {
      "text/plain": [
       "2"
      ]
     },
     "execution_count": 25,
     "metadata": {},
     "output_type": "execute_result"
    }
   ],
   "source": [
    "dc: dict[int, int] = {1: 2, 3: 4, 5: 6}\n",
    "\n",
    "dc[1]"
   ]
  },
  {
   "cell_type": "code",
   "execution_count": 40,
   "id": "1d55665d-ab45-4b5c-ab82-94204bff34eb",
   "metadata": {},
   "outputs": [
    {
     "data": {
      "text/plain": [
       "1"
      ]
     },
     "execution_count": 40,
     "metadata": {},
     "output_type": "execute_result"
    }
   ],
   "source": [
    "import numpy as np\n",
    "\n",
    "np.random.randint(10)"
   ]
  },
  {
   "cell_type": "code",
   "execution_count": null,
   "id": "d12c4e7f-d378-4768-87ba-0ac8e7b95d77",
   "metadata": {},
   "outputs": [],
   "source": []
  }
 ],
 "metadata": {
  "kernelspec": {
   "display_name": "Python 3 (ipykernel)",
   "language": "python",
   "name": "python3"
  },
  "language_info": {
   "codemirror_mode": {
    "name": "ipython",
    "version": 3
   },
   "file_extension": ".py",
   "mimetype": "text/x-python",
   "name": "python",
   "nbconvert_exporter": "python",
   "pygments_lexer": "ipython3",
   "version": "3.11.4"
  }
 },
 "nbformat": 4,
 "nbformat_minor": 5
}
